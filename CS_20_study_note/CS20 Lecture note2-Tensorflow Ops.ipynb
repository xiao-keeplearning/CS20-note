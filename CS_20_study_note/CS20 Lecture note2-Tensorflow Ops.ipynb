{
 "cells": [
  {
   "cell_type": "markdown",
   "metadata": {},
   "source": [
    "## 1.Fun with Tensorflow\n",
    "\n",
    "在tensorflow中，可以统称constants,variable,operation为ops.为了充分利用(make the most out of)TensorFlow，我们应该知道如何结合(conjunction)使用所有上述内容。在这一节里，我们开始探索TensorBoard.\n",
    "\n",
    "当用户在TensorBoard激活的TensorFlow程序中执行某些操作时，这些操作将导出到事件日志文件(event log file)。TensorBoard能够将这些事件文件转换为可视化文件，以便深入了解模型的图形及其运行时行为。\n",
    "\n",
    "让我们编写您的第一个TensorFlow程序，并用TensorBoard可视化其计算图"
   ]
  },
  {
   "cell_type": "code",
   "execution_count": 2,
   "metadata": {
    "collapsed": false
   },
   "outputs": [
    {
     "name": "stdout",
     "output_type": "stream",
     "text": [
      "5\n"
     ]
    }
   ],
   "source": [
    "import tensorflow as tf\n",
    "\n",
    "a = tf.constant(2)\n",
    "b = tf.constant(3)\n",
    "x = tf.add(a, b)\n",
    "with tf.Session() as sess:\n",
    "    print(sess.run(x))"
   ]
  },
  {
   "cell_type": "markdown",
   "metadata": {},
   "source": [
    "为了用tensorboard可视化程序，我们需要写log file（日志文件）程序。首先我们要创造一个writer来写日志文件，代码如下："
   ]
  },
  {
   "cell_type": "code",
   "execution_count": null,
   "metadata": {
    "collapsed": true
   },
   "outputs": [],
   "source": [
    "writer = tf.summary.FileWriter([logdir],[graph])"
   ]
  },
  {
   "cell_type": "markdown",
   "metadata": {},
   "source": [
    "[graph]是我们执行的程序图。你也可以通过使用tf.get_default_graph()来调用它，该函数的返回值是程序的默认图；也可以通过sess.graph返回__会话正在处理的计算图__。后者（指sess.graph）要求你已经创建了一个会话。 无论哪种方式，确保只有在定义图形后才创建一个writer，否则在TensorBoard上可视化的图形将不完整。\n",
    "\n",
    "[logdir]是存放日志文件的文件夹。你可以指定一些有意义的值，如'./graphs'"
   ]
  },
  {
   "cell_type": "code",
   "execution_count": 4,
   "metadata": {
    "collapsed": false
   },
   "outputs": [
    {
     "name": "stdout",
     "output_type": "stream",
     "text": [
      "5\n"
     ]
    }
   ],
   "source": [
    "import tensorflow as tf\n",
    "\n",
    "a = tf.constant(2)\n",
    "b = tf.constant(3)\n",
    "x = tf.add(a, b)\n",
    "writer = tf.summary.FileWriter('./graphs',tf.get_default_graph())#第一种写法\n",
    "with tf.Session() as sess:\n",
    "    #writer = tf.summary.FileWriter('./graphs', sess.graph)#第二种写法\n",
    "    print(sess.run(x))\n",
    "writer.close() #注意在会话结构外"
   ]
  },
  {
   "cell_type": "markdown",
   "metadata": {},
   "source": [
    "之后，到终端（terminal）运行程序。确保你的工作文化夹和Python代码文件夹是同一个。"
   ]
  },
  {
   "cell_type": "raw",
   "metadata": {},
   "source": [
    "$ python3 [my_program.py] \n",
    "$ tensorboard --logdir=\"./graphs\" --port 6006#经测试可运行"
   ]
  },
  {
   "cell_type": "markdown",
   "metadata": {},
   "source": [
    "打开浏览器并转到http：// localhost：6006 /（或您选择的端口），您将看到TensorBoard页面。 转到Graph选项卡，您可以验证该图形确实有3个节点，两个常量和一个Add操作。\n",
    "<img src=\"picture/1.jpg\" width = \"60%\" />"
   ]
  },
  {
   "cell_type": "markdown",
   "metadata": {},
   "source": [
    "以上的名字都是默认的，为了让TensorBoard知道你的ops的名字，你必须明确地命名它们。"
   ]
  },
  {
   "cell_type": "code",
   "execution_count": 7,
   "metadata": {
    "collapsed": false
   },
   "outputs": [
    {
     "name": "stdout",
     "output_type": "stream",
     "text": [
      "5\n"
     ]
    }
   ],
   "source": [
    "import tensorflow as tf\n",
    "\n",
    "a = tf.constant(2,name=\"a\")\n",
    "b = tf.constant(3,name=\"b\")\n",
    "x = tf.add(a, b,name=\"add\")\n",
    "writer = tf.summary.FileWriter('./graphs',tf.get_default_graph())#第一种写法\n",
    "with tf.Session() as sess:\n",
    "    #writer = tf.summary.FileWriter('./graphs', sess.graph)#第二种写法\n",
    "    print(sess.run(x))\n",
    "writer.close() #注意在会话结构外"
   ]
  },
  {
   "cell_type": "markdown",
   "metadata": {},
   "source": [
    "再刷新一下TensorBoard,可以看到图：\n",
    "<img src=\"picture/2.jpg\" width = \"50%\" />"
   ]
  },
  {
   "cell_type": "markdown",
   "metadata": {},
   "source": [
    "注意：如果您已经多次运行您的代码，您的[logdir]中将会有多个事件文件（event files）。 TF将只显示最新的图并显示多个事件文件的警告。要摆脱警告，请删除不再需要的事件文件。\n",
    "\n",
    "当然，tensorboard还可以做更多，在后面的课程我们会提到。"
   ]
  },
  {
   "cell_type": "markdown",
   "metadata": {},
   "source": [
    "## Constant op\n",
    "创建常量"
   ]
  },
  {
   "cell_type": "code",
   "execution_count": null,
   "metadata": {
    "collapsed": true
   },
   "outputs": [],
   "source": [
    "tf.constant(value, dtype=None, shape=None, name='Const', verify_shape=False)"
   ]
  },
  {
   "cell_type": "code",
   "execution_count": null,
   "metadata": {
    "collapsed": true
   },
   "outputs": [],
   "source": [
    "tf.zeros(shape, dtype=tf.float32, name=None)\n",
    "tf.zeros_like(input_tensor,dtype=None,name=None,optimize=True)\n",
    "\n",
    "tf.ones/tf.ones_like\n",
    "tf.fill"
   ]
  },
  {
   "cell_type": "markdown",
   "metadata": {},
   "source": [
    "创建序列常量"
   ]
  },
  {
   "cell_type": "code",
   "execution_count": null,
   "metadata": {
    "collapsed": true
   },
   "outputs": [],
   "source": [
    "#与numpy.lin_space类似，但不完全一样\n",
    "tf.lin_space()"
   ]
  },
  {
   "cell_type": "code",
   "execution_count": null,
   "metadata": {
    "collapsed": true
   },
   "outputs": [],
   "source": [
    "#limit是上限但取不到\n",
    "tf.range([start], limit=None, delta=1, dtype=None, name='range')"
   ]
  },
  {
   "cell_type": "markdown",
   "metadata": {},
   "source": [
    "**和numpy/python里的序列（sequences）不一样，tf的序列不可迭代**"
   ]
  },
  {
   "cell_type": "code",
   "execution_count": null,
   "metadata": {
    "collapsed": true
   },
   "outputs": [],
   "source": [
    "for _ in np.linspace(0, 10, 4): # OK\n",
    "for _ in tf.linspace(0.0, 10.0, 4): # TypeError: 'Tensor' object is not iterable.\n",
    "\n",
    "for _ in range(4): # OK\n",
    "for _ in tf.range(4): # TypeError: 'Tensor' object is not iterable."
   ]
  },
  {
   "cell_type": "markdown",
   "metadata": {},
   "source": [
    "你也可以生成某种分布的随机变量\n",
    "tf.random_normal  \n",
    "tf.truncated_normal  \n",
    "tf.random_uniform  \n",
    "tf.random_shuffle  \n",
    "tf.random_crop  \n",
    "tf.multinomial  \n",
    "tf.random_gamma  \n",
    "tf.set_random_seed  "
   ]
  },
  {
   "cell_type": "markdown",
   "metadata": {},
   "source": [
    "## math Ops\n",
    "tf中的除操作有7种，显得非常混乱\n",
    "在高层次上，tf.div完成了TensorFlow的风格除法，而tf.divide完全是Python的风格除法。\n",
    "这里推荐用tf.divide()，与py3保持一致。"
   ]
  },
  {
   "cell_type": "code",
   "execution_count": null,
   "metadata": {
    "collapsed": true
   },
   "outputs": [],
   "source": [
    "a = tf.constant([2, 2], name='a')\n",
    "b = tf.constant([[0, 1], [2, 3]], name='b')\n",
    "with tf.Session() as sess:\n",
    "\tprint(sess.run(tf.div(b, a)))             ⇒ [[0 0] [1 1]]\n",
    "\tprint(sess.run(tf.divide(b, a)))          ⇒ [[0. 0.5] [1. 1.5]]\n",
    "\tprint(sess.run(tf.truediv(b, a)))         ⇒ [[0. 0.5] [1. 1.5]]\n",
    "\tprint(sess.run(tf.floordiv(b, a)))        ⇒ [[0 0] [1 1]]\n",
    "\tprint(sess.run(tf.realdiv(b, a)))         ⇒ # Error: only works for real values\n",
    "    print(sess.run(tf.truncatediv(b, a)))     ⇒ [[0 0] [1 1]]\n",
    "\tprint(sess.run(tf.floor_div(b, a)))       ⇒ [[0 0] [1 1]]\n"
   ]
  },
  {
   "cell_type": "markdown",
   "metadata": {},
   "source": [
    "### TF中的点积"
   ]
  },
  {
   "cell_type": "code",
   "execution_count": 16,
   "metadata": {
    "collapsed": false
   },
   "outputs": [
    {
     "ename": "IndentationError",
     "evalue": "unindent does not match any outer indentation level (<ipython-input-16-9d3daeabfe18>, line 7)",
     "output_type": "error",
     "traceback": [
      "\u001b[0;36m  File \u001b[0;32m\"<ipython-input-16-9d3daeabfe18>\"\u001b[0;36m, line \u001b[0;32m7\u001b[0m\n\u001b[0;31m    print(sess.run(tf.expand_dims(a,0))\u001b[0m\n\u001b[0m                                       ^\u001b[0m\n\u001b[0;31mIndentationError\u001b[0m\u001b[0;31m:\u001b[0m unindent does not match any outer indentation level\n"
     ]
    }
   ],
   "source": [
    "\n",
    "a = tf.constant([10, 20], name='a')\n",
    "b = tf.constant([2, 3], name='b')\n",
    "with tf.Session() as sess:\n",
    "\tprint(sess.run(tf.multiply(a, b)))           #⇒ [20 60] # element-wise multiplication\n",
    "\tprint(sess.run(tf.tensordot(a, b, 1)))       #⇒ 80\n",
    "    print(sess.run(tf.expand_dims(a,0))"
   ]
  },
  {
   "cell_type": "code",
   "execution_count": null,
   "metadata": {
    "collapsed": true
   },
   "outputs": [],
   "source": []
  }
 ],
 "metadata": {
  "anaconda-cloud": {},
  "kernelspec": {
   "display_name": "Python [default]",
   "language": "python",
   "name": "python3"
  },
  "language_info": {
   "codemirror_mode": {
    "name": "ipython",
    "version": 3
   },
   "file_extension": ".py",
   "mimetype": "text/x-python",
   "name": "python",
   "nbconvert_exporter": "python",
   "pygments_lexer": "ipython3",
   "version": "3.5.2"
  }
 },
 "nbformat": 4,
 "nbformat_minor": 1
}
